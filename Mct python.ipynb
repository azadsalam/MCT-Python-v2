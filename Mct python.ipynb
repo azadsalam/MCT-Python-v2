{
 "cells": [
  {
   "cell_type": "code",
   "execution_count": 1,
   "metadata": {
    "collapsed": true
   },
   "outputs": [],
   "source": [
    "from pycorenlp import StanfordCoreNLP\n",
    "from nltk.tree import *\n",
    "import networkx as nx\n",
    "from pprint import pprint\n",
    "%matplotlib inline\n",
    "import warnings\n",
    "warnings.filterwarnings(\"ignore\")"
   ]
  },
  {
   "cell_type": "code",
   "execution_count": 17,
   "metadata": {
    "collapsed": true
   },
   "outputs": [],
   "source": [
    "nlp = StanfordCoreNLP('http://corenlp.run')"
   ]
  },
  {
   "cell_type": "code",
   "execution_count": 18,
   "metadata": {},
   "outputs": [],
   "source": [
    "text = (\n",
    "  'Pusheen and Smitha walked along the beach. '\n",
    "  'Pusheen wanted to surf, but fell off the surfboard.')\n",
    "output = nlp.annotate(text, properties={\n",
    "  'annotators': 'tokenize,ssplit,pos,depparse,parse',\n",
    "  'outputFormat': 'json'\n",
    "  })"
   ]
  },
  {
   "cell_type": "code",
   "execution_count": 19,
   "metadata": {},
   "outputs": [
    {
     "name": "stdout",
     "output_type": "stream",
     "text": [
      "dict_keys(['enhancedDependencies', 'basicDependencies', 'enhancedPlusPlusDependencies', 'index', 'tokens', 'parse'])\n"
     ]
    }
   ],
   "source": [
    "print(output['sentences'][1].keys())"
   ]
  },
  {
   "cell_type": "code",
   "execution_count": 10,
   "metadata": {},
   "outputs": [
    {
     "name": "stdout",
     "output_type": "stream",
     "text": [
      "['(ROOT\\n  (S\\n    (NP (NNP Pusheen)\\n      (CC and)\\n      (NNP Smitha))\\n    (VP (VBD walked)\\n      (PP (IN along)\\n        (NP (DT the) (NN beach))))\\n    (. .)))', '(ROOT\\n  (S\\n    (NP (NNP Pusheen))\\n    (VP\\n      (VP (VBD wanted)\\n        (PP (TO to)\\n          (NP (NN surf))))\\n      (, ,)\\n      (CC but)\\n      (VP (VBD fell)\\n        (PRT (RP off))\\n        (NP (DT the) (NN surfboard))))\\n    (. .)))']\n"
     ]
    }
   ],
   "source": [
    "print ([s['parse'] for s in output['sentences']])"
   ]
  },
  {
   "cell_type": "code",
   "execution_count": 22,
   "metadata": {
    "collapsed": true
   },
   "outputs": [],
   "source": []
  },
  {
   "cell_type": "code",
   "execution_count": 25,
   "metadata": {
    "scrolled": true
   },
   "outputs": [
    {
     "name": "stdout",
     "output_type": "stream",
     "text": [
      "                                ROOT                               \n",
      "                                 |                                  \n",
      "                                 S                                 \n",
      "    _____________________________|_______________________________   \n",
      "   |                             VP                              | \n",
      "   |             ________________|_________                      |  \n",
      "   |            VP           |   |         |                     | \n",
      "   |       _____|___         |   |         |                     |  \n",
      "   |      |         PP       |   |         VP                    | \n",
      "   |      |      ___|___     |   |     ____|_______              |  \n",
      "   NP     |     |       NP   |   |    |   PRT      NP            | \n",
      "   |      |     |       |    |   |    |    |    ___|______       |  \n",
      "  NNP    VBD    TO      NN   ,   CC  VBD   RP  DT         NN     . \n",
      "   |      |     |       |    |   |    |    |   |          |      |  \n",
      "Pusheen wanted  to     surf  ,  but  fell off the     surfboard  . \n",
      "\n"
     ]
    }
   ],
   "source": [
    "a = [s['parse'] for s in output['sentences']]\n",
    "\n",
    "Tree.fromstring(a[1]).pretty_print()"
   ]
  },
  {
   "cell_type": "code",
   "execution_count": 24,
   "metadata": {},
   "outputs": [
    {
     "ename": "AttributeError",
     "evalue": "'str' object has no attribute 'nx_graph'",
     "output_type": "error",
     "traceback": [
      "\u001b[0;31m----------------------------------------------------------------------\u001b[0m",
      "\u001b[0;31mAttributeError\u001b[0m                       Traceback (most recent call last)",
      "\u001b[0;32m<ipython-input-24-ed77a5dc738d>\u001b[0m in \u001b[0;36m<module>\u001b[0;34m()\u001b[0m\n\u001b[0;32m----> 1\u001b[0;31m \u001b[0ma\u001b[0m\u001b[0;34m[\u001b[0m\u001b[0;36m1\u001b[0m\u001b[0;34m]\u001b[0m\u001b[0;34m.\u001b[0m\u001b[0mnx_graph\u001b[0m\u001b[0;34m(\u001b[0m\u001b[0;34m)\u001b[0m\u001b[0;34m\u001b[0m\u001b[0m\n\u001b[0m",
      "\u001b[0;31mAttributeError\u001b[0m: 'str' object has no attribute 'nx_graph'"
     ]
    }
   ],
   "source": [
    "a[1].nx_graph()"
   ]
  },
  {
   "cell_type": "markdown",
   "metadata": {},
   "source": [
    "-----"
   ]
  },
  {
   "cell_type": "code",
   "execution_count": 41,
   "metadata": {
    "scrolled": false
   },
   "outputs": [
    {
     "name": "stdout",
     "output_type": "stream",
     "text": [
      "document: Robots in popular culture are there to remind us of the awesomeness ofunbound human agency.\n",
      "path: [1, 5, 8, 15, 12]\n",
      "Node 1\ttoken_text: Robots\n",
      "Node 5\ttoken_text: are\n",
      "Node 8\ttoken_text: remind\n",
      "Node 15\ttoken_text: agency\n",
      "Node 12\ttoken_text: awesomeness\n"
     ]
    }
   ],
   "source": [
    "import networkx as nx\n",
    "from pycorenlp import StanfordCoreNLP\n",
    "from pprint import pprint\n",
    "\n",
    "nlp = StanfordCoreNLP('http://localhost:{0}'.format(9000))\n",
    "def get_stanford_annotations(text, port=9000,\n",
    "                             annotators='tokenize,ssplit,pos,lemma,depparse,parse'):\n",
    "    output = nlp.annotate(text, properties={\n",
    "        \"timeout\": \"10000\",\n",
    "        \"ssplit.newlineIsSentenceBreak\": \"two\",\n",
    "        'annotators': annotators,\n",
    "        'outputFormat': 'json'\n",
    "    })\n",
    "    return output\n",
    "\n",
    "# The code expects the document to contains exactly one sentence.\n",
    "document =  'Robots in popular culture are there to remind us of the awesomeness of'\\\n",
    "            'unbound human agency.'\n",
    "print('document: {0}'.format(document))\n",
    "\n",
    "# Parse the text\n",
    "annotations = get_stanford_annotations(document, port=9000,\n",
    "                                       annotators='tokenize,ssplit,pos,lemma,depparse')\n",
    "tokens = annotations['sentences'][0]['tokens']\n",
    "\n",
    "# Load Stanford CoreNLP's dependency tree into a networkx graph\n",
    "edges = []\n",
    "dependencies = {}\n",
    "for edge in annotations['sentences'][0]['basicDependencies']:\n",
    "    edges.append((edge['governor'], edge['dependent']))\n",
    "    dependencies[(min(edge['governor'], edge['dependent']),\n",
    "                  max(edge['governor'], edge['dependent']))] = edge\n",
    "\n",
    "graph = nx.Graph(edges)\n",
    "#pprint(dependencies)\n",
    "#print('edges: {0}'.format(edges))\n",
    "\n",
    "# Find the shortest path\n",
    "token1 = 'Robots'\n",
    "token2 = 'awesomeness'\n",
    "for token in tokens:\n",
    "    if token1 == token['originalText']:\n",
    "        token1_index = token['index']\n",
    "    if token2 == token['originalText']:\n",
    "        token2_index = token['index']\n",
    "\n",
    "path = nx.shortest_path(graph, source=token1_index, target=token2_index)\n",
    "print('path: {0}'.format(path))\n",
    "\n",
    "for token_id in path:\n",
    "    token = tokens[token_id-1]\n",
    "    token_text = token['originalText']\n",
    "    print('Node {0}\\ttoken_text: {1}'.format(token_id,token_text))"
   ]
  },
  {
   "cell_type": "code",
   "execution_count": 46,
   "metadata": {},
   "outputs": [
    {
     "data": {
      "image/png": "[encoded data removed]",
      "text/plain": [
       "<matplotlib.figure.Figure at 0x7faa85201fd0>"
      ]
     },
     "metadata": {},
     "output_type": "display_data"
    }
   ],
   "source": [
    "nx.draw(graph, with_labels=True, font_weight='bold')"
   ]
  },
  {
   "cell_type": "code",
   "execution_count": 17,
   "metadata": {
    "collapsed": true
   },
   "outputs": [],
   "source": [
    "import numpy as np"
   ]
  },
  {
   "cell_type": "code",
   "execution_count": 19,
   "metadata": {
    "collapsed": true
   },
   "outputs": [],
   "source": [
    "a = 10*np.random.random((2,12))"
   ]
  },
  {
   "cell_type": "code",
   "execution_count": 20,
   "metadata": {},
   "outputs": [
    {
     "data": {
      "text/plain": [
       "array([[ 4.09345093,  5.31773578,  8.91479653,  9.78849956,  0.36601476,\n",
       "         3.56574512,  2.43414774,  3.45917946,  2.7753071 ,  3.91619923,\n",
       "         3.85888935,  0.97751023],\n",
       "       [ 4.18066637,  9.15899587,  0.62613499,  0.19839571,  1.95362138,\n",
       "         7.4238045 ,  5.23839974,  9.18112598,  5.61895301,  8.63719764,\n",
       "         7.46317859,  8.18581748]])"
      ]
     },
     "execution_count": 20,
     "metadata": {},
     "output_type": "execute_result"
    }
   ],
   "source": [
    "a"
   ]
  },
  {
   "cell_type": "code",
   "execution_count": 21,
   "metadata": {},
   "outputs": [
    {
     "data": {
      "text/plain": [
       "array([[ 4.,  5.,  8.,  9.,  0.,  3.,  2.,  3.,  2.,  3.,  3.,  0.],\n",
       "       [ 4.,  9.,  0.,  0.,  1.,  7.,  5.,  9.,  5.,  8.,  7.,  8.]])"
      ]
     },
     "execution_count": 21,
     "metadata": {},
     "output_type": "execute_result"
    }
   ],
   "source": [
    "np.floor(a)"
   ]
  },
  {
   "cell_type": "code",
   "execution_count": 29,
   "metadata": {
    "collapsed": true
   },
   "outputs": [],
   "source": [
    "from nltk import *"
   ]
  },
  {
   "cell_type": "code",
   "execution_count": 30,
   "metadata": {
    "collapsed": true
   },
   "outputs": [],
   "source": [
    "parser = CoreNLPParser(url='http://localhost:9000')"
   ]
  },
  {
   "cell_type": "code",
   "execution_count": 31,
   "metadata": {},
   "outputs": [
    {
     "name": "stdout",
     "output_type": "stream",
     "text": [
      "                     ROOT                          \n",
      "                      |                             \n",
      "                      S                            \n",
      "       _______________|__________________________   \n",
      "      |                         VP               | \n",
      "      |                _________|___             |  \n",
      "      |               |             PP           | \n",
      "      |               |     ________|___         |  \n",
      "      NP              |    |            NP       | \n",
      "  ____|__________     |    |     _______|____    |  \n",
      " DT   JJ    JJ   NN  VBZ   IN   DT      JJ   NN  . \n",
      " |    |     |    |    |    |    |       |    |   |  \n",
      "The quick brown fox jumps over the     lazy dog  . \n",
      "\n"
     ]
    }
   ],
   "source": [
    "next(\n",
    "    parser.raw_parse('The quick brown fox jumps over the lazy dog.')\n",
    ").pretty_print() "
   ]
  },
  {
   "cell_type": "code",
   "execution_count": 34,
   "metadata": {},
   "outputs": [
    {
     "data": {
      "text/plain": [
       "<list_iterator at 0x7faa85201128>"
      ]
     },
     "execution_count": 34,
     "metadata": {},
     "output_type": "execute_result"
    }
   ],
   "source": [
    "parser.raw_parse('The quick brown fox jumps over the lazy dog.')"
   ]
  },
  {
   "cell_type": "markdown",
   "metadata": {
    "collapsed": true
   },
   "source": [
    "----"
   ]
  },
  {
   "cell_type": "code",
   "execution_count": 5,
   "metadata": {},
   "outputs": [],
   "source": [
    "# For corefference relation\n",
    "text = (\n",
    "  'John and Jennifer are close. '\n",
    "  'He loves cse but she plays games.'\n",
    ")\n",
    "output = nlp.annotate(text, properties={\n",
    "  'annotators': 'tokenize,ssplit,pos,depparse,parse,coref',\n",
    "  'outputFormat': 'json'\n",
    "  })"
   ]
  },
  {
   "cell_type": "code",
   "execution_count": 6,
   "metadata": {},
   "outputs": [
    {
     "name": "stdout",
     "output_type": "stream",
     "text": [
      "dict_keys(['enhancedDependencies', 'basicDependencies', 'enhancedPlusPlusDependencies', 'index', 'tokens', 'parse'])\n"
     ]
    }
   ],
   "source": [
    "print(output['sentences'][1].keys())"
   ]
  },
  {
   "cell_type": "code",
   "execution_count": 7,
   "metadata": {},
   "outputs": [
    {
     "name": "stdout",
     "output_type": "stream",
     "text": [
      "dict_keys(['enhancedDependencies', 'basicDependencies', 'enhancedPlusPlusDependencies', 'index', 'tokens', 'parse'])\n"
     ]
    }
   ],
   "source": [
    "print(output['sentences'][1].keys())"
   ]
  },
  {
   "cell_type": "code",
   "execution_count": 8,
   "metadata": {},
   "outputs": [
    {
     "name": "stdout",
     "output_type": "stream",
     "text": [
      "[{'governor': 0, 'governorGloss': 'ROOT', 'dependentGloss': 'close', 'dep': 'ROOT', 'dependent': 5}, {'governor': 5, 'governorGloss': 'close', 'dependentGloss': 'John', 'dep': 'nsubj', 'dependent': 1}, {'governor': 1, 'governorGloss': 'John', 'dependentGloss': 'and', 'dep': 'cc', 'dependent': 2}, {'governor': 1, 'governorGloss': 'John', 'dependentGloss': 'Jennifer', 'dep': 'conj', 'dependent': 3}, {'governor': 5, 'governorGloss': 'close', 'dependentGloss': 'are', 'dep': 'cop', 'dependent': 4}, {'governor': 5, 'governorGloss': 'close', 'dependentGloss': '.', 'dep': 'punct', 'dependent': 6}]\n"
     ]
    }
   ],
   "source": [
    "print(output['sentences'][0]['basicDependencies'])"
   ]
  },
  {
   "cell_type": "code",
   "execution_count": 9,
   "metadata": {},
   "outputs": [
    {
     "data": {
      "text/plain": [
       "dict_keys(['corefs', 'sentences'])"
      ]
     },
     "execution_count": 9,
     "metadata": {},
     "output_type": "execute_result"
    }
   ],
   "source": [
    "output.keys()"
   ]
  },
  {
   "cell_type": "code",
   "execution_count": 10,
   "metadata": {},
   "outputs": [
    {
     "name": "stdout",
     "output_type": "stream",
     "text": [
      "{'3': [{'animacy': 'ANIMATE',\n",
      "        'endIndex': 4,\n",
      "        'gender': 'FEMALE',\n",
      "        'headIndex': 3,\n",
      "        'id': 1,\n",
      "        'isRepresentativeMention': True,\n",
      "        'number': 'SINGULAR',\n",
      "        'position': [1, 2],\n",
      "        'sentNum': 1,\n",
      "        'startIndex': 3,\n",
      "        'text': 'Jennifer',\n",
      "        'type': 'PROPER'},\n",
      "       {'animacy': 'ANIMATE',\n",
      "        'endIndex': 6,\n",
      "        'gender': 'FEMALE',\n",
      "        'headIndex': 5,\n",
      "        'id': 3,\n",
      "        'isRepresentativeMention': False,\n",
      "        'number': 'SINGULAR',\n",
      "        'position': [2, 2],\n",
      "        'sentNum': 2,\n",
      "        'startIndex': 5,\n",
      "        'text': 'she',\n",
      "        'type': 'PRONOMINAL'}],\n",
      " '5': [{'animacy': 'ANIMATE',\n",
      "        'endIndex': 2,\n",
      "        'gender': 'MALE',\n",
      "        'headIndex': 1,\n",
      "        'id': 0,\n",
      "        'isRepresentativeMention': True,\n",
      "        'number': 'SINGULAR',\n",
      "        'position': [1, 1],\n",
      "        'sentNum': 1,\n",
      "        'startIndex': 1,\n",
      "        'text': 'John',\n",
      "        'type': 'PROPER'},\n",
      "       {'animacy': 'ANIMATE',\n",
      "        'endIndex': 2,\n",
      "        'gender': 'MALE',\n",
      "        'headIndex': 1,\n",
      "        'id': 5,\n",
      "        'isRepresentativeMention': False,\n",
      "        'number': 'SINGULAR',\n",
      "        'position': [2, 4],\n",
      "        'sentNum': 2,\n",
      "        'startIndex': 1,\n",
      "        'text': 'He',\n",
      "        'type': 'PRONOMINAL'}]}\n"
     ]
    }
   ],
   "source": [
    "pprint(output['corefs'])"
   ]
  },
  {
   "cell_type": "code",
   "execution_count": 11,
   "metadata": {},
   "outputs": [
    {
     "name": "stdout",
     "output_type": "stream",
     "text": [
      "(ROOT\n",
      "  (S\n",
      "    (NP (NNP John)\n",
      "      (CC and)\n",
      "      (NNP Jennifer))\n",
      "    (VP (VBP are)\n",
      "      (ADJP (JJ close)))\n",
      "    (. .)))\n",
      "(ROOT\n",
      "  (S\n",
      "    (S\n",
      "      (NP (PRP He))\n",
      "      (VP (VBZ loves)\n",
      "        (NP (NN cse))))\n",
      "    (CC but)\n",
      "    (S\n",
      "      (NP (PRP she))\n",
      "      (VP (VBZ plays)\n",
      "        (NP (NNS games))))\n",
      "    (. .)))\n"
     ]
    }
   ],
   "source": [
    "print(output['sentences'][0]['parse'])\n",
    "print(output['sentences'][1]['parse'])"
   ]
  },
  {
   "cell_type": "code",
   "execution_count": null,
   "metadata": {
    "collapsed": true
   },
   "outputs": [],
   "source": []
  }
 ],
 "metadata": {
  "kernelspec": {
   "display_name": "Python 2",
   "language": "python",
   "name": "python2"
  },
  "language_info": {
   "codemirror_mode": {
    "name": "ipython",
    "version": 3
   },
   "file_extension": ".py",
   "mimetype": "text/x-python",
   "name": "python",
   "nbconvert_exporter": "python",
   "pygments_lexer": "ipython3",
   "version": "3.5.3"
  }
 },
 "nbformat": 4,
 "nbformat_minor": 2
}
